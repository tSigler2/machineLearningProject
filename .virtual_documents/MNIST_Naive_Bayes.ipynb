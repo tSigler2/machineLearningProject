import numpy as np
import struct
from array import array
from os.path import join
import matplotlib.pyplot as plt
from sklearn.naive_bayes import GaussianNB
from sklearn.metrics import confusion_matrix, accuracy_score


in_path = './archive'
train_images = join(in_path, 'train-images-idx3-ubyte/train-images-idx3-ubyte')
train_labels = join(in_path, 'train-labels-idx1-ubyte/train-labels-idx1-ubyte')
test_images = join(in_path, 't10k-images-idx3-ubyte/t10k-images-idx3-ubyte')
test_labels = join(in_path, 't10k-labels-idx1-ubyte/t10k-labels-idx1-ubyte')


class MnistDataloader(object):
    # MnistDataloader class loads MNIST data
    def __init__(self, training_images, training_labels, test_images, test_labels):
        self.training_images = training_images
        self.training_labels = training_labels
        self.test_images = test_images
        self.test_labels = test_labels

    def read_images_labels(self, images_filepath, labels_filepath):
        # Read images and labels from file paths
        try:
            with open(labels_filepath, 'rb') as file:
                _, size = struct.unpack(">II", file.read(8))
                labels = array("B", file.read())

            with open(images_filepath, 'rb') as file:
                _, size, rows, cols = struct.unpack(">IIII", file.read(16))
                image_data = array("B", file.read())

            images = [np.array(image_data[i * rows * cols:(i + 1) * rows * cols]).reshape(28, 28) for i in range(size)]

            return images, labels
        except IOError as e:
            print(f"Error reading files: {e}")
            return None, None

    def load_data(self):
        # Load training and test datasets
        return self.read_images_labels(self.training_images, self.training_labels), \
               self.read_images_labels(self.test_images, self.test_labels)


def calculate_mean_variance(images, labels):
    # Calculate mean and variance for each digit class
    mean_images = []
    var_images = []
    for i in range(10):
        digit_images = np.array([img.reshape(28, 28) for img, label in zip(images, labels) if label == i])
        mean_images.append(np.mean(digit_images, axis=0))
        var_images.append(np.var(digit_images, axis=0))
    return np.array(mean_images), np.array(var_images)


def plot_images(images, title_prefix):
    # Plot the images with titles
    for i, img in enumerate(images):
        reshaped_img = img.reshape(28, 28)
        plt.imshow(reshaped_img, cmap='inferno', interpolation='nearest')
        plt.title(f'{title_prefix} for Digit {i}')
        plt.xlabel('X Axis (Pixel Position)')
        plt.ylabel('Y Axis (Pixel Position)')
        plt.colorbar()
        plt.show()
        plt.clf()


# Load data
mndl = MnistDataloader(train_images, train_labels, test_images, test_labels)
(x_train, y_train), (x_test, y_test) = mndl.load_data()

# Reshape and convert data to numpy arrays
x_train = np.array(x_train).reshape(-1, 784)
x_test = np.array(x_test).reshape(-1, 784)
y_train = np.array(y_train)
y_test = np.array(y_test)

# Training the Naive Bayes Classifier
model = GaussianNB()
model.fit(x_train, y_train)

# Predictions and Evaluation
pred_y = model.predict(x_test)
accuracy = accuracy_score(y_test, pred_y)
test_error = 1 - accuracy
print(f"Accuracy: {accuracy}")
print(f"Test Error: {test_error}")


# Find misclassified indices
misclassified_indices = np.where(pred_y != y_test)[0]

# Create a figure with subplots
num_cols = 4
num_rows = 2
num_samples_to_display = min(8, len(misclassified_indices))
plt.figure(figsize=(10, 4))

# Display the first 8 misclassified samples
for i in range(num_samples_to_display):
    plt.subplot(num_rows, num_cols, i + 1)
    misclassified_index = misclassified_indices[i]
    predicted_label = pred_y[misclassified_index]
    true_label = y_test[misclassified_index]
    misclassified_image = x_test[misclassified_index].reshape(28, 28)  # Reshape to the original image shape (assuming it's 28x28)

    plt.imshow(misclassified_image, cmap='gray')
    plt.title(f"True: {true_label}\nPredicted: {predicted_label}")
    plt.axis('off')

plt.tight_layout()
plt.show()


# Confusion Matrix
cm = confusion_matrix(y_test, pred_y)
plt.imshow(cm, cmap='inferno', interpolation='nearest')
plt.title('Confusion Matrix')
plt.xlabel('Predicted Labels')
plt.ylabel('True Labels')
plt.colorbar()
plt.xticks(np.arange(10))
plt.yticks(np.arange(10))

# Annotating the confusion matrix with actual counts
for i in range(10):
    for j in range(10):
        text = plt.text(j, i, cm[i, j], ha="center", va="center", color="white")

plt.show()


# Calculate mean and variance images
mean_matrix, var_matrix = calculate_mean_variance(x_test, y_test)


# Plotting mean and variance images
plot_images(mean_matrix, 'Mean Image')
plot_images(var_matrix, 'Variance Image')



